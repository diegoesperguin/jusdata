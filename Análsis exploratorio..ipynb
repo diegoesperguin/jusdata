{
 "cells": [
  {
   "cell_type": "code",
   "execution_count": 1,
   "metadata": {},
   "outputs": [],
   "source": [
    "import pandas as pd\n",
    "import numpy as np\n",
    "import matplotlib.pyplot as plt\n",
    "import seaborn as sns"
   ]
  },
  {
   "cell_type": "code",
   "execution_count": 61,
   "metadata": {},
   "outputs": [],
   "source": [
    "df = pd.read_csv(\"data/penal_df.csv\")"
   ]
  },
  {
   "cell_type": "code",
   "execution_count": 14,
   "metadata": {},
   "outputs": [
    {
     "data": {
      "text/html": [
       "<div>\n",
       "<style scoped>\n",
       "    .dataframe tbody tr th:only-of-type {\n",
       "        vertical-align: middle;\n",
       "    }\n",
       "\n",
       "    .dataframe tbody tr th {\n",
       "        vertical-align: top;\n",
       "    }\n",
       "\n",
       "    .dataframe thead th {\n",
       "        text-align: right;\n",
       "    }\n",
       "</style>\n",
       "<table border=\"1\" class=\"dataframe\">\n",
       "  <thead>\n",
       "    <tr style=\"text-align: right;\">\n",
       "      <th></th>\n",
       "      <th>org_idradactual</th>\n",
       "      <th>exp_cuij</th>\n",
       "      <th>org_idintpri</th>\n",
       "      <th>org_cod_pri</th>\n",
       "      <th>org_descorta_pri</th>\n",
       "      <th>org_descr_Pri</th>\n",
       "      <th>org_idintseg</th>\n",
       "      <th>est_id</th>\n",
       "      <th>est_descr</th>\n",
       "      <th>exp_anio</th>\n",
       "      <th>...</th>\n",
       "      <th>den_v_domestica</th>\n",
       "      <th>den_v_genero</th>\n",
       "      <th>den_zon_id</th>\n",
       "      <th>den_zona</th>\n",
       "      <th>filter_.</th>\n",
       "      <th>org_destino_act</th>\n",
       "      <th>PrimarioDen_id</th>\n",
       "      <th>PrimarioDen_id_oju</th>\n",
       "      <th>PrimarioExp_id</th>\n",
       "      <th>PrimarioExp_oju</th>\n",
       "    </tr>\n",
       "  </thead>\n",
       "  <tbody>\n",
       "    <tr>\n",
       "      <th>0</th>\n",
       "      <td>72</td>\n",
       "      <td>01-00042685-3</td>\n",
       "      <td>72</td>\n",
       "      <td>JUZP01</td>\n",
       "      <td>JUZGADO N°1</td>\n",
       "      <td>JUZGADO DE 1RA INSTANCIA EN LO PENAL CONTRAVEN...</td>\n",
       "      <td>unknown</td>\n",
       "      <td>1</td>\n",
       "      <td>ASIGNADO</td>\n",
       "      <td>2016</td>\n",
       "      <td>...</td>\n",
       "      <td>NaN</td>\n",
       "      <td>NaN</td>\n",
       "      <td>unknown</td>\n",
       "      <td>unknown</td>\n",
       "      <td>1</td>\n",
       "      <td>unknown</td>\n",
       "      <td>1</td>\n",
       "      <td>1</td>\n",
       "      <td>1</td>\n",
       "      <td>1</td>\n",
       "    </tr>\n",
       "    <tr>\n",
       "      <th>1</th>\n",
       "      <td>72</td>\n",
       "      <td>01-00039012-3</td>\n",
       "      <td>72</td>\n",
       "      <td>JUZP01</td>\n",
       "      <td>JUZGADO N°1</td>\n",
       "      <td>JUZGADO DE 1RA INSTANCIA EN LO PENAL CONTRAVEN...</td>\n",
       "      <td>unknown</td>\n",
       "      <td>14</td>\n",
       "      <td>ARCHIVADO</td>\n",
       "      <td>2016</td>\n",
       "      <td>...</td>\n",
       "      <td>NaN</td>\n",
       "      <td>NaN</td>\n",
       "      <td>unknown</td>\n",
       "      <td>unknown</td>\n",
       "      <td>1</td>\n",
       "      <td>unknown</td>\n",
       "      <td>1</td>\n",
       "      <td>1</td>\n",
       "      <td>1</td>\n",
       "      <td>1</td>\n",
       "    </tr>\n",
       "    <tr>\n",
       "      <th>2</th>\n",
       "      <td>72</td>\n",
       "      <td>01-00035028-8</td>\n",
       "      <td>72</td>\n",
       "      <td>JUZP01</td>\n",
       "      <td>JUZGADO N°1</td>\n",
       "      <td>JUZGADO DE 1RA INSTANCIA EN LO PENAL CONTRAVEN...</td>\n",
       "      <td>unknown</td>\n",
       "      <td>1</td>\n",
       "      <td>ASIGNADO</td>\n",
       "      <td>2016</td>\n",
       "      <td>...</td>\n",
       "      <td>NaN</td>\n",
       "      <td>NaN</td>\n",
       "      <td>unknown</td>\n",
       "      <td>unknown</td>\n",
       "      <td>1</td>\n",
       "      <td>unknown</td>\n",
       "      <td>1</td>\n",
       "      <td>1</td>\n",
       "      <td>1</td>\n",
       "      <td>1</td>\n",
       "    </tr>\n",
       "    <tr>\n",
       "      <th>3</th>\n",
       "      <td>72</td>\n",
       "      <td>01-00036824-1</td>\n",
       "      <td>72</td>\n",
       "      <td>JUZP01</td>\n",
       "      <td>JUZGADO N°1</td>\n",
       "      <td>JUZGADO DE 1RA INSTANCIA EN LO PENAL CONTRAVEN...</td>\n",
       "      <td>unknown</td>\n",
       "      <td>14</td>\n",
       "      <td>ARCHIVADO</td>\n",
       "      <td>2016</td>\n",
       "      <td>...</td>\n",
       "      <td>NaN</td>\n",
       "      <td>NaN</td>\n",
       "      <td>unknown</td>\n",
       "      <td>unknown</td>\n",
       "      <td>1</td>\n",
       "      <td>unknown</td>\n",
       "      <td>1</td>\n",
       "      <td>1</td>\n",
       "      <td>1</td>\n",
       "      <td>1</td>\n",
       "    </tr>\n",
       "    <tr>\n",
       "      <th>4</th>\n",
       "      <td>72</td>\n",
       "      <td>01-00034124-6</td>\n",
       "      <td>72</td>\n",
       "      <td>JUZP01</td>\n",
       "      <td>JUZGADO N°1</td>\n",
       "      <td>JUZGADO DE 1RA INSTANCIA EN LO PENAL CONTRAVEN...</td>\n",
       "      <td>unknown</td>\n",
       "      <td>14</td>\n",
       "      <td>ARCHIVADO</td>\n",
       "      <td>2016</td>\n",
       "      <td>...</td>\n",
       "      <td>NaN</td>\n",
       "      <td>NaN</td>\n",
       "      <td>unknown</td>\n",
       "      <td>unknown</td>\n",
       "      <td>1</td>\n",
       "      <td>unknown</td>\n",
       "      <td>1</td>\n",
       "      <td>1</td>\n",
       "      <td>1</td>\n",
       "      <td>1</td>\n",
       "    </tr>\n",
       "  </tbody>\n",
       "</table>\n",
       "<p>5 rows × 59 columns</p>\n",
       "</div>"
      ],
      "text/plain": [
       "   org_idradactual       exp_cuij  org_idintpri org_cod_pri org_descorta_pri  \\\n",
       "0               72  01-00042685-3            72      JUZP01      JUZGADO N°1   \n",
       "1               72  01-00039012-3            72      JUZP01      JUZGADO N°1   \n",
       "2               72  01-00035028-8            72      JUZP01      JUZGADO N°1   \n",
       "3               72  01-00036824-1            72      JUZP01      JUZGADO N°1   \n",
       "4               72  01-00034124-6            72      JUZP01      JUZGADO N°1   \n",
       "\n",
       "                                       org_descr_Pri org_idintseg  est_id  \\\n",
       "0  JUZGADO DE 1RA INSTANCIA EN LO PENAL CONTRAVEN...      unknown       1   \n",
       "1  JUZGADO DE 1RA INSTANCIA EN LO PENAL CONTRAVEN...      unknown      14   \n",
       "2  JUZGADO DE 1RA INSTANCIA EN LO PENAL CONTRAVEN...      unknown       1   \n",
       "3  JUZGADO DE 1RA INSTANCIA EN LO PENAL CONTRAVEN...      unknown      14   \n",
       "4  JUZGADO DE 1RA INSTANCIA EN LO PENAL CONTRAVEN...      unknown      14   \n",
       "\n",
       "   est_descr  exp_anio  ...  den_v_domestica  den_v_genero den_zon_id  \\\n",
       "0   ASIGNADO      2016  ...              NaN           NaN    unknown   \n",
       "1  ARCHIVADO      2016  ...              NaN           NaN    unknown   \n",
       "2   ASIGNADO      2016  ...              NaN           NaN    unknown   \n",
       "3  ARCHIVADO      2016  ...              NaN           NaN    unknown   \n",
       "4  ARCHIVADO      2016  ...              NaN           NaN    unknown   \n",
       "\n",
       "   den_zona  filter_. org_destino_act PrimarioDen_id PrimarioDen_id_oju  \\\n",
       "0   unknown         1         unknown              1                  1   \n",
       "1   unknown         1         unknown              1                  1   \n",
       "2   unknown         1         unknown              1                  1   \n",
       "3   unknown         1         unknown              1                  1   \n",
       "4   unknown         1         unknown              1                  1   \n",
       "\n",
       "  PrimarioExp_id PrimarioExp_oju  \n",
       "0              1               1  \n",
       "1              1               1  \n",
       "2              1               1  \n",
       "3              1               1  \n",
       "4              1               1  \n",
       "\n",
       "[5 rows x 59 columns]"
      ]
     },
     "execution_count": 14,
     "metadata": {},
     "output_type": "execute_result"
    }
   ],
   "source": [
    "df.head()"
   ]
  },
  {
   "cell_type": "code",
   "execution_count": 73,
   "metadata": {},
   "outputs": [
    {
     "data": {
      "text/plain": [
       "(37136, 59)"
      ]
     },
     "execution_count": 73,
     "metadata": {},
     "output_type": "execute_result"
    }
   ],
   "source": [
    "df.shape"
   ]
  },
  {
   "cell_type": "code",
   "execution_count": 17,
   "metadata": {
    "scrolled": true
   },
   "outputs": [
    {
     "name": "stdout",
     "output_type": "stream",
     "text": [
      "<class 'pandas.core.frame.DataFrame'>\n",
      "RangeIndex: 37136 entries, 0 to 37135\n",
      "Data columns (total 59 columns):\n",
      " #   Column               Non-Null Count  Dtype \n",
      "---  ------               --------------  ----- \n",
      " 0   org_idradactual      37136 non-null  int64 \n",
      " 1   exp_cuij             37136 non-null  object\n",
      " 2   org_idintpri         37136 non-null  int64 \n",
      " 3   org_cod_pri          37136 non-null  object\n",
      " 4   org_descorta_pri     37136 non-null  object\n",
      " 5   org_descr_Pri        37136 non-null  object\n",
      " 6   org_idintseg         37136 non-null  object\n",
      " 7   est_id               37136 non-null  int64 \n",
      " 8   est_descr            37136 non-null  object\n",
      " 9   exp_anio             37136 non-null  int64 \n",
      " 10  exp_cuerpos          37136 non-null  int64 \n",
      " 11  exp_fojas            37136 non-null  int64 \n",
      " 12  exp_detenidos        37136 non-null  object\n",
      " 13  exp_id               37136 non-null  int64 \n",
      " 14  exp_sufijo           37136 non-null  int64 \n",
      " 15  exp_fechecho         13163 non-null  object\n",
      " 16  exp_fecinidem        23364 non-null  object\n",
      " 17  exp_fecini           35667 non-null  object\n",
      " 18  exp_fecreg           37136 non-null  object\n",
      " 19  exp_fecsor           37136 non-null  object\n",
      " 20  exp_fecelev          1040 non-null   object\n",
      " 21  exp_letra            37136 non-null  object\n",
      " 22  oju_id               37136 non-null  int64 \n",
      " 23  oju_descr            37136 non-null  object\n",
      " 24  exp_ultmov           37136 non-null  object\n",
      " 25  exp_ultmovf          37136 non-null  object\n",
      " 26  den_id               37136 non-null  int64 \n",
      " 27  den_cod_casoMPF      11330 non-null  object\n",
      " 28  Tipo_ingreso_MPF     17293 non-null  object\n",
      " 29  org_cod              37135 non-null  object\n",
      " 30  org_descr            37135 non-null  object\n",
      " 31  org_descorta         37135 non-null  object\n",
      " 32  org_den              37136 non-null  object\n",
      " 33  org_descorta_Den     33493 non-null  object\n",
      " 34  org_descr_Den        33493 non-null  object\n",
      " 35  den_flagrante        33494 non-null  object\n",
      " 36  Comuna               37136 non-null  object\n",
      " 37  den_barrio           37136 non-null  object\n",
      " 38  den_calle_id         37136 non-null  object\n",
      " 39  den_cod_postal       37136 non-null  object\n",
      " 40  den_fec_hecho        27604 non-null  object\n",
      " 41  den_fec_ingreso_MPF  33494 non-null  object\n",
      " 42  den_fec_ini_comi     15525 non-null  object\n",
      " 43  den_hora_hecho       7376 non-null   object\n",
      " 44  den_latitud          37136 non-null  object\n",
      " 45  den_longitud         37136 non-null  object\n",
      " 46  den_tipo_den         37136 non-null  object\n",
      " 47  den_loc_id           37136 non-null  object\n",
      " 48  den_sin_lugar_hecho  37136 non-null  object\n",
      " 49  den_v_domestica      33494 non-null  object\n",
      " 50  den_v_genero         5552 non-null   object\n",
      " 51  den_zon_id           37136 non-null  object\n",
      " 52  den_zona             37136 non-null  object\n",
      " 53  filter_.             37136 non-null  int64 \n",
      " 54  org_destino_act      37136 non-null  object\n",
      " 55  PrimarioDen_id       37136 non-null  int64 \n",
      " 56  PrimarioDen_id_oju   37136 non-null  int64 \n",
      " 57  PrimarioExp_id       37136 non-null  int64 \n",
      " 58  PrimarioExp_oju      37136 non-null  int64 \n",
      "dtypes: int64(15), object(44)\n",
      "memory usage: 16.7+ MB\n"
     ]
    }
   ],
   "source": [
    "df.info(memory_usage=True)"
   ]
  },
  {
   "cell_type": "code",
   "execution_count": 85,
   "metadata": {},
   "outputs": [],
   "source": [
    "def plot_nulls(df):\n",
    "    nulls = pd.DataFrame((df.isnull().sum().sort_values()/len(df)*100).round(2),columns=['pct_null'])\n",
    "    nulls = nulls.loc[nulls['pct_null']>0]\n",
    "    plt.figure(figsize=(12,8))\n",
    "    ax = nulls['pct_null'].plot.barh()\n",
    "    ax.set_title('Porcentaje de valores nulos en cada columna',fontsize=20, y=1.02)\n",
    "    ax.set_xlabel('Porcentaje del total %', fontsize=16)\n",
    "    ax.set_ylabel('columnas', fontsize=16)\n",
    "    ax.grid(axis='x')\n",
    "\n",
    "    for y, x in enumerate(nulls['pct_null']):\n",
    "        ax.text(x, y, s=str(x)+'%', color='black', fontweight='bold',va='center')\n",
    "        \n",
    "    plt.show()\n",
    "    \n",
    "    print(nulls.shape)\n",
    "\n",
    "\n",
    "   "
   ]
  },
  {
   "cell_type": "code",
   "execution_count": 86,
   "metadata": {},
   "outputs": [
    {
     "data": {
      "image/png": "[encoded data removed]",
      "text/plain": [
       "<Figure size 864x576 with 1 Axes>"
      ]
     },
     "metadata": {
      "needs_background": "light"
     },
     "output_type": "display_data"
    },
    {
     "name": "stdout",
     "output_type": "stream",
     "text": [
      "(15, 1)\n"
     ]
    }
   ],
   "source": [
    "plot_nulls(df)"
   ]
  },
  {
   "cell_type": "markdown",
   "metadata": {},
   "source": [
    "El dataset tiene 59 features y 37136 filas. Ocupa 16.7mb, que no es mucho pero se puede optimizar, hay varias columnas con valores booleanos que no hace falta que esas columnas estén como int64. \n",
    "\n",
    "Veo una discrepancia entre el diccionario de datos proporcionado por el juzgado y la cantidad de features que tenemos en el dataset.\n",
    "\n",
    "Tenemos 44 features con strings dentro de sus valores. Más adelante veremos si realmente son variables categóricas o si están mal cargado los datos. \n",
    "Va a ser todo un desafío encodear todas esas variables en valores númericos.\n",
    "\n",
    "Solo 15 de las 59 features, tienen valores nulos en alguna de sus filas. Con valores que oscilan entre el 3,96% y el 97,2% para la feature que más nulos tiene."
   ]
  },
  {
   "cell_type": "markdown",
   "metadata": {},
   "source": [
    "### org_idintpri, org_descorta_pri, org_cod_pri, org_descr_Pri y org_idradactual"
   ]
  },
  {
   "cell_type": "code",
   "execution_count": 89,
   "metadata": {},
   "outputs": [
    {
     "data": {
      "text/plain": [
       "(32,)"
      ]
     },
     "execution_count": 89,
     "metadata": {},
     "output_type": "execute_result"
    }
   ],
   "source": [
    "df['org_idintpri'].value_counts().shape"
   ]
  },
  {
   "cell_type": "code",
   "execution_count": 90,
   "metadata": {},
   "outputs": [
    {
     "data": {
      "text/plain": [
       "(32,)"
      ]
     },
     "execution_count": 90,
     "metadata": {},
     "output_type": "execute_result"
    }
   ],
   "source": [
    "df['org_descorta_pri'].value_counts().shape"
   ]
  },
  {
   "cell_type": "code",
   "execution_count": 96,
   "metadata": {},
   "outputs": [
    {
     "data": {
      "text/plain": [
       "(32,)"
      ]
     },
     "execution_count": 96,
     "metadata": {},
     "output_type": "execute_result"
    }
   ],
   "source": [
    "df['org_cod_pri'].value_counts().shape"
   ]
  },
  {
   "cell_type": "code",
   "execution_count": 97,
   "metadata": {},
   "outputs": [
    {
     "data": {
      "text/plain": [
       "(32,)"
      ]
     },
     "execution_count": 97,
     "metadata": {},
     "output_type": "execute_result"
    }
   ],
   "source": [
    "df[\"org_descr_Pri\"].value_counts().shape"
   ]
  },
  {
   "cell_type": "code",
   "execution_count": 99,
   "metadata": {},
   "outputs": [
    {
     "data": {
      "text/plain": [
       "(32,)"
      ]
     },
     "execution_count": 99,
     "metadata": {},
     "output_type": "execute_result"
    }
   ],
   "source": [
    "df[\"org_idradactual\"].value_counts().shape"
   ]
  },
  {
   "cell_type": "code",
   "execution_count": 104,
   "metadata": {},
   "outputs": [
    {
     "data": {
      "text/plain": [
       "1613"
      ]
     },
     "execution_count": 104,
     "metadata": {},
     "output_type": "execute_result"
    }
   ],
   "source": [
    "df.loc[df[\"org_idradactual\"] != df[\"org_idintpri\"]].shape[0]"
   ]
  },
  {
   "cell_type": "code",
   "execution_count": 105,
   "metadata": {},
   "outputs": [
    {
     "data": {
      "text/plain": [
       "4.343494183541577"
      ]
     },
     "execution_count": 105,
     "metadata": {},
     "output_type": "execute_result"
    }
   ],
   "source": [
    "1613/len(df)*100"
   ]
  },
  {
   "cell_type": "markdown",
   "metadata": {},
   "source": [
    "Primera información valiosa que extraemos del dataset, aparentemente hay 32 juzgados en la ciudad de Buenos Aires. También vemos la primera optimización de memoria que podemos hacer, hay 4 columnas que representan exactamente lo mismo. \n",
    "\n",
    "Que un caso se inicialice en un juzgado y luego lleve otro la causa, los datos nos dicen que no es algo muy común. Son solo 1613 casos, un 4,34% del total."
   ]
  },
  {
   "cell_type": "code",
   "execution_count": 101,
   "metadata": {},
   "outputs": [
    {
     "data": {
      "text/plain": [
       "unknown    36096\n",
       "1004         357\n",
       "1006         356\n",
       "1005         327\n",
       "Name: org_idintseg, dtype: int64"
      ]
     },
     "execution_count": 101,
     "metadata": {},
     "output_type": "execute_result"
    }
   ],
   "source": [
    "df[\"org_idintseg\"].value_counts()"
   ]
  },
  {
   "cell_type": "markdown",
   "metadata": {},
   "source": [
    "'org_idintseg' que representa \"el código numérico de la Sala que recibió el recurso en el caso que haya sido apelado\", según el diccionario que nos facilitaron, tiene en la mayoría de sus filas valor \"unknown\". \n",
    "\n",
    "Acá me surge la duda de si esto significa que la totalidad  de las filas que tienen este valor son casos que no fueron apelados o si realmente hay valores nulos."
   ]
  },
  {
   "cell_type": "markdown",
   "metadata": {},
   "source": [
    "### est_id y est_descr"
   ]
  },
  {
   "cell_type": "code",
   "execution_count": 108,
   "metadata": {},
   "outputs": [
    {
     "data": {
      "text/plain": [
       "(16,)"
      ]
     },
     "execution_count": 108,
     "metadata": {},
     "output_type": "execute_result"
    }
   ],
   "source": [
    "df['est_id'].value_counts().shape"
   ]
  },
  {
   "cell_type": "code",
   "execution_count": 162,
   "metadata": {},
   "outputs": [],
   "source": [
    "def plot_pct(column,kind):\n",
    "    plt.figure(figsize=(12,8))\n",
    "    data = ((df[column].value_counts())/len(df) * 100).round(3)\n",
    "    data.plot(kind=kind)\n",
    "    plt.title(column,fontdict={'fontsize':16})\n",
    "    plt.xlabel(\"Porcentaje\")\n",
    "    if kind == \"barh\":\n",
    "        for y, x in enumerate(data):\n",
    "            plt.text(x, y, s=str(x)+'%', color='black', fontweight='bold',va='center')\n",
    "    else:\n",
    "        for y, x in enumerate(data):\n",
    "            plt.text(y-0.2, x+0.35, s=str(x)+'%', color='black', fontweight='bold',va='center')\n",
    "    plt.show()"
   ]
  },
  {
   "cell_type": "code",
   "execution_count": 144,
   "metadata": {},
   "outputs": [
    {
     "data": {
      "image/png": "[encoded data removed]",
      "text/plain": [
       "<Figure size 864x576 with 1 Axes>"
      ]
     },
     "metadata": {
      "needs_background": "light"
     },
     "output_type": "display_data"
    }
   ],
   "source": [
    "plot_pct(\"est_descr\",\"barh\")"
   ]
  },
  {
   "cell_type": "markdown",
   "metadata": {},
   "source": [
    "En estas dos features, al igual que con las anteriores, también vemos que represetan exactamente lo mismo. En este caso, la descripción del estado del expediente. Hay 16 estados posibles."
   ]
  },
  {
   "cell_type": "markdown",
   "metadata": {},
   "source": [
    "## exp_anio"
   ]
  },
  {
   "cell_type": "code",
   "execution_count": 137,
   "metadata": {},
   "outputs": [
    {
     "data": {
      "text/plain": [
       "2019    15492\n",
       "2018     8610\n",
       "2016     7121\n",
       "2017     5911\n",
       "2015        2\n",
       "Name: exp_anio, dtype: int64"
      ]
     },
     "execution_count": 137,
     "metadata": {},
     "output_type": "execute_result"
    }
   ],
   "source": [
    "df[\"exp_anio\"].value_counts()"
   ]
  },
  {
   "cell_type": "code",
   "execution_count": 163,
   "metadata": {
    "scrolled": false
   },
   "outputs": [
    {
     "data": {
      "image/png": "[encoded data removed]",
      "text/plain": [
       "<Figure size 864x576 with 1 Axes>"
      ]
     },
     "metadata": {
      "needs_background": "light"
     },
     "output_type": "display_data"
    }
   ],
   "source": [
    "plot_pct(\"exp_anio\",\"bar\")"
   ]
  },
  {
   "cell_type": "markdown",
   "metadata": {},
   "source": [
    "Los datos que nos proporcionaron provienen de los últimos 5 años. Cabe notar que el número de expedientes va aumentando año a año. En el año 2015, solo tenemos dos datos."
   ]
  },
  {
   "cell_type": "markdown",
   "metadata": {},
   "source": [
    "## exp_detenidos"
   ]
  },
  {
   "cell_type": "code",
   "execution_count": 172,
   "metadata": {},
   "outputs": [
    {
     "data": {
      "text/plain": [
       "unknown    24082\n",
       "0          12991\n",
       "1             63\n",
       "Name: exp_detenidos, dtype: int64"
      ]
     },
     "execution_count": 172,
     "metadata": {},
     "output_type": "execute_result"
    }
   ],
   "source": [
    "df[\"exp_detenidos\"].value_counts()"
   ]
  },
  {
   "cell_type": "code",
   "execution_count": 173,
   "metadata": {},
   "outputs": [
    {
     "data": {
      "image/png": "[encoded data removed]",
      "text/plain": [
       "<Figure size 864x576 with 1 Axes>"
      ]
     },
     "metadata": {
      "needs_background": "light"
     },
     "output_type": "display_data"
    }
   ],
   "source": [
    "plot_pct(\"exp_detenidos\",\"bar\")"
   ]
  },
  {
   "cell_type": "markdown",
   "metadata": {},
   "source": [
    "Esta feature nos indica si hay o no detenidos en el expediente. El 65% de las filas tiene \"unknown\", es decir, valores nulos. En este punto, queda claro que el primer gráfico no es del todo correcto, ya que columnas con este tipo de valores no es la primera vez que aparecen.\n"
   ]
  },
  {
   "cell_type": "markdown",
   "metadata": {},
   "source": [
    "## oju_descr y oju_id"
   ]
  },
  {
   "cell_type": "code",
   "execution_count": 181,
   "metadata": {},
   "outputs": [
    {
     "data": {
      "text/plain": [
       "149 BIS - AMENAZAS                                                                                                   6131\n",
       "149 BIS  - AMENAZAS - CP (P/ L 2303)                                                                                 5108\n",
       "183 - DAÑOS                                                                                                          3241\n",
       "128 1 PARR - DELITOS ATINENTES A LA PORNOGRAFIA (PRODUCIR/PUBLICAR IMAGENES PORNOGR. C MENORES 18)                   2800\n",
       "89  - LESIONES LEVES                                                                                                 1989\n",
       "128 1 PARR - DELITOS ATINENTES A LA PORNOGRAFIA (PRODUCIR/PUBLICAR IMAGENES PORNOGR. C MENORES 18) CP (P/ L 2303)    1886\n",
       "Name: oju_descr, dtype: int64"
      ]
     },
     "execution_count": 181,
     "metadata": {},
     "output_type": "execute_result"
    }
   ],
   "source": [
    "df[\"oju_descr\"].value_counts().sort_values(ascending=False).head(6)"
   ]
  },
  {
   "cell_type": "markdown",
   "metadata": {},
   "source": [
    "Presuntamente se cometieron 287 tipos de delitos diferentes. Son 5 más frecuentes, en nuestros datos, son: amenazadas, daños, delitos atienentes a la pornografía infantil y lesiones leves.\n",
    "Parece ser que hay algo de solapamiento en las descripciones de los delitos. Los más representados, son amenazas pero tienen carátulas distintas."
   ]
  },
  {
   "cell_type": "code",
   "execution_count": null,
   "metadata": {},
   "outputs": [],
   "source": []
  }
 ],
 "metadata": {
  "kernelspec": {
   "display_name": "Python 3",
   "language": "python",
   "name": "python3"
  },
  "language_info": {
   "codemirror_mode": {
    "name": "ipython",
    "version": 3
   },
   "file_extension": ".py",
   "mimetype": "text/x-python",
   "name": "python",
   "nbconvert_exporter": "python",
   "pygments_lexer": "ipython3",
   "version": "3.6.9"
  }
 },
 "nbformat": 4,
 "nbformat_minor": 4
}
